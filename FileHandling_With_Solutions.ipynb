{
  "nbformat": 4,
  "nbformat_minor": 0,
  "metadata": {
    "colab": {
      "name": "FileHandling With Solutions.ipynb",
      "provenance": [],
      "collapsed_sections": [],
      "authorship_tag": "ABX9TyMlHwGEK6uNRO+bovtFfDJD",
      "include_colab_link": true
    },
    "kernelspec": {
      "name": "python3",
      "display_name": "Python 3"
    },
    "language_info": {
      "name": "python"
    }
  },
  "cells": [
    {
      "cell_type": "markdown",
      "metadata": {
        "id": "view-in-github",
        "colab_type": "text"
      },
      "source": [
        "<a href=\"https://colab.research.google.com/github/likithapeetha/Python/blob/main/FileHandling_With_Solutions.ipynb\" target=\"_parent\"><img src=\"https://colab.research.google.com/assets/colab-badge.svg\" alt=\"Open In Colab\"/></a>"
      ]
    },
    {
      "cell_type": "markdown",
      "metadata": {
        "id": "SvENXVuFRxcn"
      },
      "source": [
        ""
      ]
    },
    {
      "cell_type": "markdown",
      "metadata": {
        "id": "LU-TyJWWRzcB"
      },
      "source": [
        "1. How to create a file in python."
      ]
    },
    {
      "cell_type": "code",
      "metadata": {
        "id": "X00DhziKR4a0"
      },
      "source": [
        "open(\"myFile.txt\", \"w+\")"
      ],
      "execution_count": null,
      "outputs": []
    },
    {
      "cell_type": "markdown",
      "metadata": {
        "id": "b3SSupwxScMp"
      },
      "source": [
        "2. How to open a file in python."
      ]
    },
    {
      "cell_type": "code",
      "metadata": {
        "id": "akYqUYB_Slqy"
      },
      "source": [
        "open(\"myFile.txt\", \"r\") as fObj"
      ],
      "execution_count": null,
      "outputs": []
    },
    {
      "cell_type": "markdown",
      "metadata": {
        "id": "FWoHSm3JTSV5"
      },
      "source": [
        "3. How to read file in python.\n",
        "\n",
        "First, open the file in reading mode “r” and then read the content from the file."
      ]
    },
    {
      "cell_type": "code",
      "metadata": {
        "id": "EWocxZbMTgQo"
      },
      "source": [
        "open(\"myFile.txt\") as fObj \n",
        "    data = fObj.read() \n",
        "    print(data)"
      ],
      "execution_count": null,
      "outputs": []
    },
    {
      "cell_type": "markdown",
      "metadata": {
        "id": "HQROQqvdTsqf"
      },
      "source": [
        "4. How to read file line by line into list."
      ]
    },
    {
      "cell_type": "code",
      "metadata": {
        "id": "vcIdxfIKT32z"
      },
      "source": [
        "with open(\"myFile.txt\") as fObj:\n",
        "    liData = fObj.readlines()\n",
        "    print(liData)"
      ],
      "execution_count": null,
      "outputs": []
    },
    {
      "cell_type": "markdown",
      "metadata": {
        "id": "J9UqBF59UdrE"
      },
      "source": [
        "5. How to write a file in python."
      ]
    },
    {
      "cell_type": "code",
      "metadata": {
        "id": "ASBnZ6WLUmw6"
      },
      "source": [
        "with open(\"myFile.txt\", 'a+') as fOut:\n",
        "    fOut.write(\"my data to add.\"+'\\n')"
      ],
      "execution_count": null,
      "outputs": []
    },
    {
      "cell_type": "markdown",
      "metadata": {
        "id": "HvaZXt8UUrmF"
      },
      "source": [
        "6.how to close the file in python."
      ]
    },
    {
      "cell_type": "code",
      "metadata": {
        "id": "d1mBIjmDUzWN"
      },
      "source": [
        "open(\"myFile.txt\", \"r\") as fObj\n",
        "#perform file operations\n",
        "fObj.close()"
      ],
      "execution_count": null,
      "outputs": []
    },
    {
      "cell_type": "markdown",
      "metadata": {
        "id": "s3Ed6mifU9dk"
      },
      "source": [
        "Otherwise,\n",
        "\n",
        "Use “with” statement while opening the file. You don’t need to explicitly close the file object. As soon as the pointer goes out of the with statement block, the file object will be closed."
      ]
    },
    {
      "cell_type": "code",
      "metadata": {
        "id": "GmCj2d_KU8Ps"
      },
      "source": [
        "with open(\"myFile.txt\", \"r\") as fObj:\n",
        "  #perform file operations\n",
        "#file is closed automatically"
      ],
      "execution_count": null,
      "outputs": []
    },
    {
      "cell_type": "markdown",
      "metadata": {
        "id": "Q9jp9CgFU0zE"
      },
      "source": [
        "7.how to delete a file in python"
      ]
    },
    {
      "cell_type": "markdown",
      "metadata": {
        "id": "8KS-8U-9VN-O"
      },
      "source": [
        "Always check the file existence. If the file present, delete it."
      ]
    },
    {
      "cell_type": "code",
      "metadata": {
        "id": "Ttpe7VL-U3Je"
      },
      "source": [
        "import os\n",
        "#delete file if it exists.\n",
        "if os.path.exists(\"yourFile.txt\"):\n",
        "    os.remove(\"yourFile.txt\")"
      ],
      "execution_count": null,
      "outputs": []
    },
    {
      "cell_type": "markdown",
      "metadata": {
        "id": "AjpRCt3oVQ9E"
      },
      "source": [
        "8. What are different file modes in python.\n",
        "There are multiple modes to open the file.\n",
        "\n",
        "“r” mode: Open the file in reading mode. The pointer will be assigned at the beginning of the file. It will throw an error if the file does not exist.\n",
        "\n",
        "“r+” mode: Open the file for reading writing. The pointer will be assigned at the beginning of the file to read and write a file. It will throw an I/O error if the file not exist.\n",
        "\n",
        "“w” mode: Open the file in write mode. The pointer will be assigned at the beginning of the file and it will overwrite all the contents in the file.\n",
        "\n",
        "“w+” mode: Open the file in read-write mode. All the data in the existing file will be truncated (delete and throw away) and overwritten.\n",
        "\n",
        "“a” mode: Open file in append mode. Instead of overwriting original content, in this mode, you can append the new content at the end of the file. If the file is not present, a new file will be created with the file name mentioned.\n",
        "\n",
        "“a+” mode: Open the file in append mode. If the file does not exist, it will create a new file. It will append the new content at the end.  The existing content in the file will be intact.\n",
        "\n",
        "What is the default file mode?\n",
        "\n",
        "If you don’t mention the file mode while opening the file, ‘r’ will be the default file mode"
      ]
    },
    {
      "cell_type": "markdown",
      "metadata": {
        "id": "AHeU50ywVsyN"
      },
      "source": [
        "9.assign a file name to the variable."
      ]
    },
    {
      "cell_type": "code",
      "metadata": {
        "id": "gQYMyFYBVu81"
      },
      "source": [
        "#If you are reading and writing files multiple times, always create the variable for the file name. \n",
        "#So you don’t need to assign file names every time in your program.\n",
        "FILE_EMP = \"empFile.txt\"\n",
        "with open(FILE_EMP) as fEmp: \n",
        "    liEmp = fEmp.readlines()"
      ],
      "execution_count": null,
      "outputs": []
    },
    {
      "cell_type": "markdown",
      "metadata": {
        "id": "uEBKBcuRV2ks"
      },
      "source": [
        "10.choosing right mode to read, write and append.\n",
        "\n",
        "If you don’t want your program to write the file, always open the file only for reading.\n",
        "\n",
        "The opening file in write mode will erase the original content in the file and will add new content.\n",
        "\n",
        " If you want your program to append the new content at the end of the file, always open a file in append mode."
      ]
    },
    {
      "cell_type": "markdown",
      "metadata": {
        "id": "5NN2RMdeWE3V"
      },
      "source": [
        "                                            **Programs**"
      ]
    },
    {
      "cell_type": "markdown",
      "metadata": {
        "id": "hPlU_PA1WLR7"
      },
      "source": [
        "1.WAPP to remove all the duplicates lines from the file\n",
        "\n",
        "Hint: Read the file line-by-line in the list and find all the unique elements in the list. Write back all the content from the list in the file."
      ]
    },
    {
      "cell_type": "code",
      "metadata": {
        "id": "LivLHLhbWQeV"
      },
      "source": [
        "#Take a list of all the computer languages. And there are some languages repeated in the list.\n",
        "# You are asked to find all the different languages list.\n",
        "\n",
        "listCompLang =['CPP', 'C', 'Python', 'CPP', 'Java', 'Java']\n",
        "print set(listCompLang)\n",
        "\n",
        "#Output:\n",
        "#set(['CPP', 'Python', 'C', 'Java'])\n",
        "#The problem with a set is, you can not access set elements directly unlike list.\n",
        "#So convert it into a list first and then use it as follows.\n",
        "\n",
        "listCompLang =['CPP', 'C', 'Python', 'CPP', 'Java', 'Java']\n",
        "listUniqueCL = list(set(listCompLang))\n",
        "print listUniqueCL;\n",
        "\n",
        "#Output:\n",
        "['CPP', 'Python', 'C', 'Java']"
      ],
      "execution_count": null,
      "outputs": []
    },
    {
      "cell_type": "markdown",
      "metadata": {
        "id": "YM1EqNmjXAht"
      },
      "source": [
        "2.WAPP to randomly select any line from the file\n",
        "\n",
        "Hint: Read the file line-by-line in the list and randomly select elements from the list."
      ]
    },
    {
      "cell_type": "code",
      "metadata": {
        "id": "8BfTJFK3XKN-"
      },
      "source": [
        "#Methos-1\n",
        "#1. Randomly Select Item from List in Python Using random.choice() method.\n",
        "import random\n",
        "player = ['Kohli', 'Tendulkar', 'ABD', 'Ponting', 'Kallis']\n",
        "print(random.choice(player))\n",
        "#Method-2\n",
        "#2. Randomly Select Item from List in Python using Numpy module:\n",
        "#You can use Numpy module as well. It works fine for all Python versions.\n",
        "#Numpy module does not come with Python binaries, you need to install this module using the pip tool.\n",
        "import numpy\n",
        "player = ['Kohli', 'Tendulkar', 'ABD', 'Ponting', 'Kallis']\n",
        "print numpy.random.choice(player)\n",
        "#It will print the name of the player randomly from the list"
      ],
      "execution_count": null,
      "outputs": []
    },
    {
      "cell_type": "markdown",
      "metadata": {
        "id": "22RjKltnXiS1"
      },
      "source": [
        "3.WAPP to add a given line to file if it is not already there.\n",
        "\n",
        "Hint: Read the line-by-line file into the list. Search if the given text is present. If it is not there, append the new content inside the file as a new line."
      ]
    },
    {
      "cell_type": "code",
      "metadata": {
        "id": "JkUK_KEzXoIu"
      },
      "source": [
        ""
      ],
      "execution_count": null,
      "outputs": []
    },
    {
      "cell_type": "markdown",
      "metadata": {
        "id": "1MQXuKzKYred"
      },
      "source": [
        "4.WAPP to find the longest line in the file."
      ]
    },
    {
      "cell_type": "code",
      "metadata": {
        "id": "ZADo9ymjYuO_"
      },
      "source": [
        ""
      ],
      "execution_count": null,
      "outputs": []
    },
    {
      "cell_type": "markdown",
      "metadata": {
        "id": "xpTuFaEzYuj2"
      },
      "source": [
        "                                    ** SET-1**"
      ]
    },
    {
      "cell_type": "markdown",
      "metadata": {
        "id": "Db6LE4X2Yz71"
      },
      "source": [
        "Q1. Write a program in python to read entire content of file (“data.txt”)."
      ]
    },
    {
      "cell_type": "code",
      "metadata": {
        "id": "3DKyx7xOY4t-"
      },
      "source": [
        "f = open(\"data.txt\",\"r\")\n",
        "l = f.read()\n",
        "print(l)"
      ],
      "execution_count": null,
      "outputs": []
    },
    {
      "cell_type": "markdown",
      "metadata": {
        "id": "xyX6jm8dZtQO"
      },
      "source": [
        "Q2. Write a program in python to read first 5 characters from the file(“data.txt”) \n"
      ]
    },
    {
      "cell_type": "code",
      "metadata": {
        "id": "WDt--_bfZxzo"
      },
      "source": [
        "f=open(\"data.txt\", 'r')\n",
        "l=f.read(5)\n",
        "print(l)"
      ],
      "execution_count": null,
      "outputs": []
    },
    {
      "cell_type": "markdown",
      "metadata": {
        "id": "M8SGQW4kaXaL"
      },
      "source": [
        "Q3. Write a program in python to read first line from the file(“data.txt”)"
      ]
    },
    {
      "cell_type": "code",
      "metadata": {
        "id": "sIm229maaavw"
      },
      "source": [
        "f=open(\"data.txt\", 'r')\n",
        "l=f.readline()\n",
        "print(l)"
      ],
      "execution_count": null,
      "outputs": []
    },
    {
      "cell_type": "markdown",
      "metadata": {
        "id": "mPNJNKWSalpN"
      },
      "source": [
        "Q4. Write a program in python to display number of lines in a file(“data.txt”). "
      ]
    },
    {
      "cell_type": "code",
      "metadata": {
        "id": "0g3TRjvlamWC"
      },
      "source": [
        "f=open(\"data.txt\", 'r')\n",
        "l=f.readlines()\n",
        "print(len(l))"
      ],
      "execution_count": null,
      "outputs": []
    },
    {
      "cell_type": "markdown",
      "metadata": {
        "id": "bBV9of6aaz8q"
      },
      "source": [
        "Q5. Write a program in python to display first line from the file(“data.txt”) using readlines()."
      ]
    },
    {
      "cell_type": "code",
      "metadata": {
        "id": "1TvwEwbXa4jr"
      },
      "source": [
        "f=open(\"data.txt\",'r')\n",
        "l=f.readlines()\n",
        "print(len(l(0)))"
      ],
      "execution_count": null,
      "outputs": []
    },
    {
      "cell_type": "markdown",
      "metadata": {
        "id": "pWGikWbYbexc"
      },
      "source": [
        "Q6. Accept five names from the user and write in a file “name.txt”"
      ]
    },
    {
      "cell_type": "code",
      "metadata": {
        "id": "FD7Ltg3eb2gr"
      },
      "source": [
        "f = open(\"name.txt\",\"w\")\n",
        "for i in range(5):\n",
        "   n = input(\"Enter name\")\n",
        "   f.write(n)\n",
        "f.close()"
      ],
      "execution_count": null,
      "outputs": []
    },
    {
      "cell_type": "markdown",
      "metadata": {
        "id": "cGFN_Yn0b_ct"
      },
      "source": [
        "Q7. Accept five sports names from the user and write in a file “sport.txt” (each name should write in separate line)"
      ]
    },
    {
      "cell_type": "code",
      "metadata": {
        "id": "DJBRDvHtb_5F"
      },
      "source": [
        "f = open(\"name.txt\",\"w\")\n",
        "for i in range(5):\n",
        "       n = input(\"Enter sport name\")\n",
        "       f.write(n)\n",
        "       f.write('\\n')\n",
        "f.close()"
      ],
      "execution_count": null,
      "outputs": []
    },
    {
      "cell_type": "markdown",
      "metadata": {
        "id": "sxt3NMAMcV2P"
      },
      "source": [
        " Q7. Accept five hobbies from the user and write in a file “hobby.txt” (each hobby should write in separate line) without using      write() function."
      ]
    },
    {
      "cell_type": "code",
      "metadata": {
        "id": "Q2VXaVFDcWfU"
      },
      "source": [
        "f = open(\"hobby.txt\",\"w\")\n",
        "h = [ ]\n",
        "for i in range(5):\n",
        "       n = input(\"Enter hobby name\")\n",
        "       h.append(n,'\\n')\n",
        "f.writelines(h)\n",
        "f.close()\n",
        "Disclaimer : I trie"
      ],
      "execution_count": null,
      "outputs": []
    },
    {
      "cell_type": "markdown",
      "metadata": {
        "id": "YiKUHh0KcM_V"
      },
      "source": [
        "                                   ** SET-2**"
      ]
    },
    {
      "cell_type": "markdown",
      "metadata": {
        "id": "UvZDzgGAcP6t"
      },
      "source": [
        "1.Write a function in python to read the content from a text file \"poem.txt\" line by line and display the same on screen.\n"
      ]
    },
    {
      "cell_type": "code",
      "metadata": {
        "id": "-p6vBfRlcgam"
      },
      "source": [
        "def read_file():\n",
        "    file = open(\"poem.txt\",\"r\")\n",
        "    for line in file:\n",
        "        print(line, end=\"\")\n",
        "    file.close()\n",
        "\n",
        "read_file()"
      ],
      "execution_count": null,
      "outputs": []
    },
    {
      "cell_type": "markdown",
      "metadata": {
        "id": "HXHPi89pchF9"
      },
      "source": [
        "2.Write a function in python to count the number of lines from a text file \"story.txt\" which is not starting with an alphabet \"T\". \n",
        "\n",
        "Example: If the file \"story.txt\" contains the following lines: A boy is playing there.\n",
        "\n",
        "There is a playground.\n",
        "\n",
        "An aeroplane is in the sky.\n",
        "\n",
        "The sky is pink.\n",
        "\n",
        "Alphabets and numbers are allowed in the password.\n",
        "\n",
        "The function should display the output as 3"
      ]
    },
    {
      "cell_type": "code",
      "metadata": {
        "id": "yml-CFS6ckem"
      },
      "source": [
        "def line_count():\n",
        "    file = open(\"story.txt\",\"r\")\n",
        "    count=0\n",
        "    for line in file:\n",
        "        if line[0] not in 'T':\n",
        "            count+= 1\n",
        "    file.close()\n",
        "    print(\"No of lines not starting with 'T'=\",count)\n",
        "\n",
        "line_count()\n",
        "\n"
      ],
      "execution_count": null,
      "outputs": []
    },
    {
      "cell_type": "markdown",
      "metadata": {
        "id": "6AZKCt_3coV_"
      },
      "source": [
        "3.Write a function in Python to count and display the total number of words in a text file."
      ]
    },
    {
      "cell_type": "code",
      "metadata": {
        "id": "WJAbKJjqcqol"
      },
      "source": [
        "def count_words():\n",
        "    file = open(\"notes.txt\",\"r\")\n",
        "    count = 0\n",
        "    data = file.read()\n",
        "    words = data.split()\n",
        "    for word in words:\n",
        "        count += 1\n",
        "    print(\"Total words are\",count)\n",
        "    file.close()\n",
        "\n",
        "count_words()\n"
      ],
      "execution_count": null,
      "outputs": []
    },
    {
      "cell_type": "markdown",
      "metadata": {
        "id": "LOX9PiOKct3U"
      },
      "source": [
        "4.Write a function in Python to read lines from a text file \"notes.txt\". Your function should find and display the occurrence of the word \"the\".\n",
        "\n",
        "For example: If the content of the file is:\n",
        "\n",
        "\"India is the fastest-growing economy. India is looking for more investments around the globe. The whole world is looking at India as a great market. Most of the Indians can foresee the heights that India is capable of reaching.\"\n",
        "\n",
        "The output should be 5. "
      ]
    },
    {
      "cell_type": "code",
      "metadata": {
        "id": "PlMqg-Dnc2IE"
      },
      "source": [
        "def count_words():\n",
        "    file = open(\"notes.txt\",\"r\")\n",
        "    count = 0\n",
        "    data = file.read()\n",
        "    words = data.split()\n",
        "    for word in words:\n",
        "        if word ==\"the\" or word ==\"The\":\n",
        "            count += 1\n",
        "    print(count)\n",
        "    file.close()\n",
        "\n",
        "count_words()"
      ],
      "execution_count": null,
      "outputs": []
    },
    {
      "cell_type": "markdown",
      "metadata": {
        "id": "FwDGwigsc549"
      },
      "source": [
        "5.Write a function display_words() in python to read lines from a text file \"story.txt\", and display those words, which are less than 4 characters. \n"
      ]
    },
    {
      "cell_type": "code",
      "metadata": {
        "id": "JZGTgyQFc8EX"
      },
      "source": [
        "def display_words():\n",
        "    file = open(\"poem.txt\",\"r\")\n",
        "    data = file.read()\n",
        "    words = data.split()\n",
        "    for word in words:\n",
        "        if len(word) < 4:\n",
        "            print(word, end=\" \")\n",
        "    file.close()\n",
        "\n",
        "display_words()"
      ],
      "execution_count": null,
      "outputs": []
    },
    {
      "cell_type": "markdown",
      "metadata": {
        "id": "k7lWyUzLc_rt"
      },
      "source": [
        "6. Write a function in Python to count the words \"this\" and \"these\" present in a text file \"article.txt\".\n",
        "\n",
        " [Note that the words \"this\" and \"these\" are complete words]"
      ]
    },
    {
      "cell_type": "code",
      "metadata": {
        "id": "Kddz-8jJdLZD"
      },
      "source": [
        "def count_words():\n",
        "    file = open(\"article.txt\",\"r\")\n",
        "    count = 0\n",
        "    data = file.read()\n",
        "    words = data.split()\n",
        "    for word in words:\n",
        "        if word == 'this' or word =='these':\n",
        "            count+=1\n",
        "    print(count)\n",
        "    file.close()\n",
        "\n",
        "count_words()\n"
      ],
      "execution_count": null,
      "outputs": []
    },
    {
      "cell_type": "markdown",
      "metadata": {
        "id": "PvvmhZrXdL-A"
      },
      "source": [
        "7. Write a function in Python to count words in a text file those are ending with alphabet \"e\""
      ]
    },
    {
      "cell_type": "code",
      "metadata": {
        "id": "NyRiWMnPdQQ6"
      },
      "source": [
        "def count_words():\n",
        "    file = open(\"article.txt\",\"r\")\n",
        "    count = 0\n",
        "    data = file.read()\n",
        "    words = data.split()\n",
        "    for word in words:\n",
        "        if word[-1] == 'e':\n",
        "            count+=1\n",
        "    print(count)\n",
        "    file.close()\n",
        "\n",
        "count_words()"
      ],
      "execution_count": null,
      "outputs": []
    },
    {
      "cell_type": "markdown",
      "metadata": {
        "id": "M7MhgG2WdTNu"
      },
      "source": [
        "8. Write a function in Python to count uppercase character in a text file."
      ]
    },
    {
      "cell_type": "code",
      "metadata": {
        "id": "HliQKD_xdVpe"
      },
      "source": [
        "def count_letter():\n",
        "    file = open(\"article.txt\",\"r\")\n",
        "    data = file.read()\n",
        "    count = 0\n",
        "    for letter in data:\n",
        "        if letter.isupper():\n",
        "            count+=1\n",
        "    print(count)\n",
        "    file.close()\n",
        "\n",
        "count_letter()"
      ],
      "execution_count": null,
      "outputs": []
    },
    {
      "cell_type": "markdown",
      "metadata": {
        "id": "x9PLDTpUdZKG"
      },
      "source": [
        "9.A text file named \"matter.txt\" contains some text, which needs to be displayed such that every next character is separated by a symbol \"#\". Write a function definition for hash_display() in Python that would display the entire content of the file matter.txt in the desired format.\n",
        "\n",
        "Example :\n",
        "\n",
        "If the file matter.txt has the following content stored in it :\n",
        "\n",
        "THE WORLD IS ROUND\n",
        "\n",
        "The function hash_display() should display the following content :\n",
        "\n",
        "T#H#E# #W#O#R#L#D# #I#S# #R#O#U#N#D#"
      ]
    },
    {
      "cell_type": "code",
      "metadata": {
        "id": "qu7okvtkdbmv"
      },
      "source": [
        "def count_hash():\n",
        "    file = open(\"matter.txt\",\"r\")\n",
        "    data = file.read()\n",
        "    for letter in data:\n",
        "        print(letter, end=\"#\")\n",
        "\n",
        "    file.close()\n",
        "\n",
        "count_hash()\n"
      ],
      "execution_count": null,
      "outputs": []
    },
    {
      "cell_type": "markdown",
      "metadata": {
        "id": "DNh0BNfEdf4H"
      },
      "source": [
        "10.Aditi has used a text editing software to type some text. After saving the article as WORDS.TXT, she realised that she has wrongly typed alphabet J in place of alphabet I everywhere in the article.\n",
        "Write a function definition for JTOI() in Python that would display the corrected version of entire content of the file WORDS.TXT with all the alphabets \"J\" to be displayed as an alphabet \"I\" on screen.\n",
        "Note: Assuming that WORD.TXT does not contain any J alphabet otherwise.\n",
        "\n",
        "Example:\n",
        "If Aditi has stored the following content in the file WORDS.TXT:\n",
        "WELL, THJS JS A WORD BY JTSELF. YOU COULD STRETCH THJS TO BE A SENTENCE\n",
        "The function JTOI() should display the following content:\n",
        "WELL, THIS IS A WORD BY ITSELF. YOU COULD STRETCH THIS TO BE A SENTENCE "
      ]
    },
    {
      "cell_type": "code",
      "metadata": {
        "id": "n09Ow2zgdi5n"
      },
      "source": [
        "def JTOI():\n",
        "    file = open(\"words.txt\",\"r\")\n",
        "    data = file.read()\n",
        "    for letter in data:\n",
        "        if letter == 'J':\n",
        "            print(\"I\",end=\"\")\n",
        "        else:\n",
        "            print(letter,end=\"\")\n",
        "\n",
        "    file.close()\n",
        "\n",
        "JTOI()"
      ],
      "execution_count": null,
      "outputs": []
    },
    {
      "cell_type": "markdown",
      "metadata": {
        "id": "zO3FvQgNdm_-"
      },
      "source": [
        "11.Write a function AMCount() in Python, which should read each character of a text file STORY.TXT, should count and display the occurance of alphabets A and M (including small cases a and m too).\n",
        "\n",
        "For Example:\n",
        "\n",
        "If the file content is as follows:\n",
        "\n",
        "Updated information\n",
        "\n",
        "As simplified by official websites.\n",
        "\n",
        "The EUCount() function should display the output as:\n",
        "\n",
        "A or a:4\n",
        "\n",
        "M or m :2"
      ]
    },
    {
      "cell_type": "code",
      "metadata": {
        "id": "4re--Gesd1VH"
      },
      "source": [
        "def AMcount():\n",
        "    file = open('notes.txt','r')\n",
        "    data = file.read()\n",
        "    counta=0\n",
        "    countm=0\n",
        "    for letter in data:\n",
        "        if letter == 'A' or letter =='a':\n",
        "            counta += 1\n",
        "        elif letter == 'M' or letter =='m':\n",
        "            countm += 1\n",
        "\n",
        "    file.close()\n",
        "    print('A or a:',counta)\n",
        "    print('M or m:',countm)\n",
        "\n",
        "AMcount()\n"
      ],
      "execution_count": null,
      "outputs": []
    },
    {
      "cell_type": "markdown",
      "metadata": {
        "id": "vEpxrnR4dsWX"
      },
      "source": [
        "12.A binary file \"Book.dat\" has structure [BookNo, Book_Name, Author, Price].\n",
        "\n",
        "i. Write a user defined function createFile() to input data for a record and add to Book.dat.\n",
        "\n",
        "ii. Write a function countRec(Author) in Python which accepts the Author name as parameter and count and return number of books by the given Author are stored in the binary file \"Book.dat\" "
      ]
    },
    {
      "cell_type": "code",
      "metadata": {
        "id": "LSQ3Hux0eDPh"
      },
      "source": [
        "import pickle\n",
        "\n",
        "def createFile():\n",
        "    file = open(\"book.dat\",\"ab\")\n",
        "    BookNo = int(input(\"Enter book number: \"))\n",
        "    Book_Name = input(\"Enter book Name: \")\n",
        "    Author =input(\"Enter author: \")\n",
        "    Price = int(input(\"Enter price: \"))\n",
        "    record = [BookNo, Book_Name, Author, Price]\n",
        "    pickle.dump(record, file)\n",
        "    file.close()\n",
        "    \n",
        "def countRec(Author):\n",
        "    file = open(\"book.dat\",\"rb\")\n",
        "    count = 0\n",
        "    try:\n",
        "        while True:\n",
        "            record = pickle.load(file)\n",
        "            if record[2]==Author:\n",
        "                count+=1\n",
        "    except EOFError:\n",
        "        pass\n",
        "    return count\n",
        "    file.close()\n",
        "\n",
        "#To test working of functions\n",
        "def testProgram():\n",
        "    while True:\n",
        "        createFile()\n",
        "        choice = input(\"Add more record (y/n)? \")\n",
        "        if choice in 'Nn':\n",
        "            break\n",
        "    Author = input('Enter author name to search: ')\n",
        "    n = countRec(Author)\n",
        "    print(\"No of books are\",n)\n",
        "\n",
        "testProgram()    \n",
        "    \n",
        "\n"
      ],
      "execution_count": null,
      "outputs": []
    },
    {
      "cell_type": "markdown",
      "metadata": {
        "id": "HTZfoM7qeD5I"
      },
      "source": [
        "13.A binary file \"STUDENT.DAT\" has structure (admission_number, Name, Percentage). Write a function count_rec() in Python that would read contents of the file \"STUDENT.DAT\" and display the details of those students whose percentage is above 75. Also display number of students scoring above 75% "
      ]
    },
    {
      "cell_type": "code",
      "metadata": {
        "id": "27L63XFxeF9h"
      },
      "source": [
        "def count_rec():\n",
        "    file = open(\"STUDENT.DAT\",\"rb\")\n",
        "    count = 0\n",
        "    try:\n",
        "        while True:\n",
        "            record = pickle.load(file)\n",
        "            if record[2] > 75:\n",
        "                print(record)\n",
        "                count+=1\n",
        "    except EOFError:\n",
        "        pass\n",
        "    print('No of students having more than 75% are', count)\n",
        "    file.close()\n",
        "\n"
      ],
      "execution_count": null,
      "outputs": []
    },
    {
      "cell_type": "markdown",
      "metadata": {
        "id": "1feXuERqeK1I"
      },
      "source": [
        "14.Given a binary file employee.dat, created using dictionary object having keys: (empcode, name, and salary)\n",
        "\n",
        "Write a python function that add one more record at the end of file.\n",
        "\n",
        "Write a python function that display all employee records whose salary is more that 30000"
      ]
    },
    {
      "cell_type": "code",
      "metadata": {
        "id": "FB52JupkeNiZ"
      },
      "source": [
        "-import pickle\n",
        "\n",
        "def add_record():\n",
        "    file = open(\"employee.dat\",\"ab\")\n",
        "    emp = {}\n",
        "    emp['empcode'] = int(input(\"Enter employee code: \"))\n",
        "    emp['name'] = input(\"Enter employee Name: \")\n",
        "    emp['salary'] = int(input(\"Enter salary: \"))\n",
        "    pickle.dump(emp, file)\n",
        "    file.close()\n",
        "    \n",
        "def search():\n",
        "    file = open(\"employee.dat\",\"rb\")\n",
        "    try:\n",
        "        while True:\n",
        "            emp = pickle.load(file)\n",
        "            if emp['salary']>30000:\n",
        "                print(emp)\n",
        "    except EOFError:\n",
        "        pass\n",
        "    file.close()\n",
        "\n",
        "#To test working of functions\n",
        "def testProgram():\n",
        "    while True:\n",
        "        add_record()\n",
        "        choice = input(\"Add more record (y/n)? \")\n",
        "        if choice in 'Nn':\n",
        "            break\n",
        "    print('Employee details having salary more than 30000')\n",
        "    search()\n",
        "\n",
        "testProgram()    \n",
        "    "
      ],
      "execution_count": null,
      "outputs": []
    },
    {
      "cell_type": "markdown",
      "metadata": {
        "id": "LRRTOmVSedo6"
      },
      "source": [
        "15. Write a function to search and display details of student whose rollno is '1005' from the binary file student.dat having structure [rollno, name, class and fees]. "
      ]
    },
    {
      "cell_type": "code",
      "metadata": {
        "id": "H0ftDPwxegY6"
      },
      "source": [
        "def search():\n",
        "    file = open(\"student.dat\",\"rb\")\n",
        "    try:\n",
        "        while True:\n",
        "            record = pickle.load(file)\n",
        "            if record[0] == 1005:\n",
        "                print(record)\n",
        "    except EOFError:\n",
        "        pass\n",
        "    file.close()"
      ],
      "execution_count": null,
      "outputs": []
    },
    {
      "cell_type": "markdown",
      "metadata": {
        "id": "EWMyikrfei86"
      },
      "source": [
        "16. A binary file school.dat has structure(rollno, name, class, fees)\n",
        "\n",
        "Write a definition for function total_fees( ) that reads each object of file and calculate the total fees of students and display the same. "
      ]
    },
    {
      "cell_type": "code",
      "metadata": {
        "id": "SPaoWljkelUK"
      },
      "source": [
        "def total_fees():\n",
        "    file = open(\"school.dat\",\"rb\")\n",
        "    try:\n",
        "        total = 0\n",
        "        while True:\n",
        "            record = pickle.load(file)\n",
        "            total += record[3]:\n",
        "    except EOFError:\n",
        "        pass\n",
        "    print('Total Fees: ',total)\n",
        "    file.close()\n",
        "\n"
      ],
      "execution_count": null,
      "outputs": []
    },
    {
      "cell_type": "markdown",
      "metadata": {
        "id": "Q7ZkKe3pen0z"
      },
      "source": [
        "17.A binary file players.dat, containing records of following list format: [code, name, country and total runs]\n",
        "\n",
        "-->Write a python function that display all records where player name starts from 'A'\n",
        "\n",
        "-->Write a python function that accept country as an argument and count and display the number of players of that country.\n",
        "\n",
        "-->Write a python function that add one record at the end of file.\n"
      ]
    },
    {
      "cell_type": "code",
      "metadata": {
        "id": "mP3CYmlye2Zr"
      },
      "source": [
        "import pickle\n",
        "\n",
        "def createFile():\n",
        "    file = open(\"players.dat\",\"ab\")\n",
        "    Code = int(input(\"Enter player code: \"))\n",
        "    Name = input(\"Enter player Name: \")\n",
        "    Country =input(\"Enter player country: \")\n",
        "    Total_Runs = int(input(\"Enter total runs of player: \"))\n",
        "    record = [Code, Name, Country, Total_Runs]\n",
        "    pickle.dump(record, file)\n",
        "    file.close()\n",
        "\n",
        "def search():\n",
        "    file = open(\"players.dat\",\"rb\")\n",
        "    try:\n",
        "        while True:\n",
        "            record = pickle.load(file)\n",
        "            if record[1][0] == 'A':\n",
        "                print(record)\n",
        "    except EOFError:\n",
        "        pass\n",
        "    file.close()\n",
        "\n",
        "def countRec(Country):\n",
        "    file = open(\"players.dat\",\"rb\")\n",
        "    count = 0\n",
        "    try:\n",
        "        while True:\n",
        "            record = pickle.load(file)\n",
        "            if record[2]==Country:\n",
        "                count+=1\n",
        "    except EOFError:\n",
        "        pass\n",
        "    return count\n",
        "    file.close()\n",
        "\n",
        "def testProgram():\n",
        "    while True:\n",
        "        createFile()\n",
        "        choice = input(\"Add more record (y/n)? \")\n",
        "        if choice in 'Nn':\n",
        "            break\n",
        "    print(\"the number of players whose name starts with A:\",search())\n",
        "    Country = input('Enter country name to search: ')\n",
        "    n = countRec(Country)\n",
        "    print(\"No of players are\",n)\n",
        "\n",
        "testProgram()"
      ],
      "execution_count": null,
      "outputs": []
    },
    {
      "cell_type": "markdown",
      "metadata": {
        "id": "sgJE3-vSe26z"
      },
      "source": [
        "18. Given a binary file game.dat, containing records of following list format: [game_name, participants]\n",
        "\n",
        "Write a function in Python that would read contents from the file game.dat and creates a file named basket.dat copying only those records from game.dat where the game name is \"Basket Ball\" "
      ]
    },
    {
      "cell_type": "code",
      "metadata": {
        "id": "tfzJRNNre5qU"
      },
      "source": [
        "def countRec(country):\n",
        "    infile = open(\"game.dat\",\"rb\")\n",
        "    outfile = open(\"basket.dat\",\"wb\")\n",
        "\n",
        "    try:\n",
        "        while True:\n",
        "            record = pickle.load(infile)\n",
        "            if record[0] == \"Basket Ball\":\n",
        "                pickle.dump(record, outfile)\n",
        "    except EOFError:\n",
        "        pass\n",
        "    infile.close()\n",
        "    outfile.close()\n"
      ],
      "execution_count": null,
      "outputs": []
    },
    {
      "cell_type": "markdown",
      "metadata": {
        "id": "DaUvWemCe-pr"
      },
      "source": [
        "                                 ** BINARY FILE PROGRAMS:**"
      ]
    },
    {
      "cell_type": "markdown",
      "metadata": {
        "id": "kCBk9usJfCpE"
      },
      "source": [
        "1.A binary file “Book.dat” has structure [BookNo, Book_Name, Author, Price].\n",
        "\n",
        "(a)Write a user defined function CreateFile() to input data for a record and add to Book.dat .\n",
        "\n",
        "(b)Write a function CountRec(Author) in Python which accepts the Author name as parameter and count and return number of books    by the given Author are stored in the binary file “Book.dat\n"
      ]
    },
    {
      "cell_type": "code",
      "metadata": {
        "id": "LkEc6-06fLWV"
      },
      "source": [
        "import pickle\n",
        "   def createfile():\n",
        "   fobj=open(\"Book.dat\",\"ab\")\n",
        "   BookNo=int(input(\"Enter Book Number : \"))\n",
        "   Book_name=input(\"Enter book Name :\")\n",
        "   Author = input(\"Enter Author name: \")\n",
        "   Price = int(input(\"Price of book : \"))\n",
        "   rec=[BookNo, Book_name ,Author, Price]\n",
        "   pickle.dump(rec, fobj)\n",
        "   fobj.close()\n",
        "\n",
        "createfile()  # This function is called just to verify result and not required in exam\n",
        "   \n",
        "\n",
        "def countrec(Author):\n",
        "   fobj=open(\"Book.dat\", \"rb\")\n",
        "   num = 0\n",
        "   try:\n",
        "      while True:\n",
        "         rec=pickle.load(fobj)\n",
        "         if Author==rec[2]:\n",
        "            num = num + 1\n",
        "            print(rec[0],rec[1],rec[2],rec[3])\n",
        "   except:\n",
        "   fobj.close()\n",
        "   return num\n",
        "\n",
        "n=countrec(\"amit\") # This function is called just to verify result and not required in exam\n",
        "print(\"Total records\", n) # This statement is just to verify result and not required in exam"
      ],
      "execution_count": null,
      "outputs": []
    },
    {
      "cell_type": "markdown",
      "metadata": {
        "id": "JSqdUku8fSXf"
      },
      "source": [
        "2.A binary file “STUDENT.DAT” has structure [admission_number, Name, Percentage]. Write a function countrec() in Python that would read contents of the file “STUDENT.DAT” and display the details of those students whose percentage is above 75. Also display number of students scoring above 75%."
      ]
    },
    {
      "cell_type": "code",
      "metadata": {
        "id": "w0l9W-CNfUhd"
      },
      "source": [
        "import pickle\n",
        "def countrec():\n",
        "   fobj=open(\"student.dat\",\"rb\")\n",
        "   num = 0\n",
        "   try:\n",
        "      while True:\n",
        "         rec=pickle.load(fobj)\n",
        "         if rec[2]>75:\n",
        "         num = num + 1\n",
        "         print(rec[0],rec[1],rec[2])\n",
        "   except:\n",
        "      fobj.close()\n",
        "   return num"
      ],
      "execution_count": null,
      "outputs": []
    },
    {
      "cell_type": "markdown",
      "metadata": {
        "id": "eEmVvpk8fWtR"
      },
      "source": [
        "3.Write a function in python to search and display details, whose destination is “Cochin” from binary file “Bus.Dat”. Assuming the binary file is containing the following elements in the list:\n",
        "\n",
        "(1).Bus Number\n",
        "\n",
        "(2).Bus Starting Point\n",
        "\n",
        "(3).Bus Destination\n"
      ]
    },
    {
      "cell_type": "code",
      "metadata": {
        "id": "w1qHqXTvfb_k"
      },
      "source": [
        "import pickle\n",
        "def countrec():\n",
        "     fobj=open(\"bus.dat\",\"rb\")\n",
        "     num = 0\n",
        "     try:\n",
        "         while True:\n",
        "             rec=pickle.load(fobj)\n",
        "             if rec[2]==\"Cochin\" or rec[2]==\"cochin\":\n",
        "                 num = num + 1\n",
        "                 print(rec[0],rec[1],rec[2])\n",
        "      except:\n",
        "         fobj.close()\n",
        "      return num\n",
        "n=countrec() # This function is called just to verify result\n",
        "print(n)"
      ],
      "execution_count": null,
      "outputs": []
    },
    {
      "cell_type": "markdown",
      "metadata": {
        "id": "urIFzn2Effwx"
      },
      "source": [
        "4.Write a function addrec() in Python to add more new records at the bottom of a binary file “STUDENT.dat”, assuming the binary file is containing the following structure :\n",
        "\n",
        "[Roll Number, Student Name]"
      ]
    },
    {
      "cell_type": "code",
      "metadata": {
        "id": "eMLA0H9hfh_O"
      },
      "source": [
        "import pickle\n",
        "def addrec():\n",
        "    fobj=open(\"student.dat\",\"ab\")\n",
        "    rollno=int(input(\"Roll Number : \"))\n",
        "    sname=input(\"Student Name :\")\n",
        "    rec=[rollno,sname]\n",
        "    pickle.dump(rec,fobj)\n",
        "fobj.close()\n",
        "addrec()"
      ],
      "execution_count": null,
      "outputs": []
    },
    {
      "cell_type": "markdown",
      "metadata": {
        "id": "oAWDzXr8fj-2"
      },
      "source": [
        "5.Write a function searchprod( pc) in python to display the record of a particular product from a file product.dat whose code is passed as an argument. \n",
        "Structure of product contains the following elements\n",
        "\n",
        " [product code , product price]\n"
      ]
    },
    {
      "cell_type": "code",
      "metadata": {
        "id": "csGxAynhfmJP"
      },
      "source": [
        "import pickle\n",
        "def searchprod(pc):\n",
        "    fobj=open(\"product.dat\",\"rb\")\n",
        "    num = 0\n",
        "    try:\n",
        "        while True:\n",
        "            rec=pickle.load(fobj)\n",
        "            if rec[0]==pc:\n",
        "                print(rec)\n",
        "     except:\n",
        "         fobj.close()\n",
        "\n",
        "n=searchprod(1) # This function is called to verify the result"
      ],
      "execution_count": null,
      "outputs": []
    },
    {
      "cell_type": "markdown",
      "metadata": {
        "id": "pmbyXfrMfpqs"
      },
      "source": [
        "6.Write a function routechange(route number) which takes the Route number as parameter and modify the route name(Accept it from the user) of passed route number in a binary file “route.dat”."
      ]
    },
    {
      "cell_type": "code",
      "metadata": {
        "id": "-kBWe8jYfsAu"
      },
      "source": [
        "import pickle\n",
        "def routechange(rno):\n",
        "    fobj=open(\"route.dat\",\"rb\")\n",
        "    try:\n",
        "        while True:\n",
        "            rec=pickle.load(fobj)\n",
        "            if rec[0]==rno:\n",
        "                rn=input(\"Enter route name to be changed \")\n",
        "                rec[1]=rn\n",
        "                print(rec) #This statement is called to verify the change in the record\n",
        "    except:\n",
        "         fobj.close()\n",
        "\n",
        "routechange(1) # This function is called to verify the result "
      ],
      "execution_count": null,
      "outputs": []
    },
    {
      "cell_type": "markdown",
      "metadata": {
        "id": "i9wQU7j5fuUy"
      },
      "source": [
        "7.Write a function countrec(sport name) in Python which accepts the name of sport as parameter and count and display the coach name of a sport which is passed as argument from the binary file “sport.dat”. Structure of record in a file is [sport name, coach name]"
      ]
    },
    {
      "cell_type": "code",
      "metadata": {
        "id": "i69nl61sfwRm"
      },
      "source": [
        "def countrec(sn):\n",
        "    num=0\n",
        "    fobj=open(\"data.dat\",\"rb\")\n",
        "    try:\n",
        "         print(\"Sport Name\",\"\\t\",\"Coach Name\")\n",
        "        while True:\n",
        "            rec=pickle.load(fobj)\n",
        "            if rec[0]==sn:\n",
        "                \n",
        "                print(rec[0],\"\\t\\t\",rec[1])\n",
        "                num=num+1\n",
        "        return num\n",
        "   except:\n",
        "       fobj.close()"
      ],
      "execution_count": null,
      "outputs": []
    },
    {
      "cell_type": "markdown",
      "metadata": {
        "id": "vVsawuRXfy_l"
      },
      "source": [
        "8.A binary file “salary.DAT” has structure [employee id, employee name, salary]. Write a function countrec() in Python that would read contents of the file “salary.DAT” and display the details of those employee whose salary is above 20000.\n"
      ]
    },
    {
      "cell_type": "code",
      "metadata": {
        "id": "xaPiOsMff05t"
      },
      "source": [
        "def countrec():\n",
        "    num=0\n",
        "    fobj=open(\"data.dat\",\"rb\")\n",
        "    try:\n",
        "        print(\"Emp id\\tEmp Name\\tEmp Sal\")\n",
        "        while True:\n",
        "            rec=pickle.load(fobj)\n",
        "            if rec[2]>20000:\n",
        "                print(rec[0],\"\\t\\t\",rec[1],\"\\t\\t\",rec[2])\n",
        "    except:\n",
        "        fobj.close()\n",
        "countrec()# This function is called to verify the result"
      ],
      "execution_count": null,
      "outputs": []
    },
    {
      "cell_type": "markdown",
      "metadata": {
        "id": "JNJ0h8k7f3Z2"
      },
      "source": [
        "9.Amit is a monitor of class XII-A and he stored the record of all the students of his class in a file named “class.dat”. Structure of record is [roll number, name, percentage]. His computer teacher has assigned the following duty to Amit\n",
        "\n",
        "Write a function remcount( ) to count the number of students who need remedial class (student who scored less than 40 percent)\n"
      ]
    },
    {
      "cell_type": "code",
      "metadata": {
        "id": "VEnScvwgf6Zc"
      },
      "source": [
        "def countrec():\n",
        "    fobj=open(\"data.dat\",\"rb\")\n",
        "    try:\n",
        "        print(\"Emp id\\tEmp Name\\tEmp Sal\")\n",
        "        while True:\n",
        "            rec=pickle.load(fobj)\n",
        "            if rec[2]>20000:\n",
        "                print(rec[0],\"\\t\\t\",rec[1],\"\\t\\t\",rec[2])\n",
        "    except:\n",
        "        fobj.close()\n",
        "countrec()# This function is called to verify the result"
      ],
      "execution_count": null,
      "outputs": []
    },
    {
      "cell_type": "markdown",
      "metadata": {
        "id": "hHlKN4aSf8_W"
      },
      "source": [
        "10.A binary file “emp.dat” has structure [employee id, employee name]. Write a function delrec(employee number) in Python that would read contents of the file “emp.dat” and delete the details of those employee whose employee number is passed as argument."
      ]
    },
    {
      "cell_type": "code",
      "metadata": {
        "id": "xWuwLhXcf_uW"
      },
      "source": [
        "import pickle \n",
        "import os\n",
        "def delrec():\n",
        "  num=0\n",
        "  fobj=open(\"data.dat\",\"rb\")\n",
        "  ftemp=open(\"temp.dat\",\"wb\")\n",
        "  eid=int(input(\"enter employee id to be deleted\"))\n",
        "  try:\n",
        "    while True:\n",
        "      rec=pickle.load(fobj)\n",
        "      if rec[0]==eid:\n",
        "        print(\"record found\")\n",
        "      else:\n",
        "        pickle.dump(fobj.ftemp)\n",
        "  except:\n",
        "    fobj.close()\n",
        "delrec()\n",
        "os.remove(\"data.dat\")\n",
        "os.rname(\"temp.dat\",\"data.dat\")\n",
        "def display():\n",
        "  fobj=open(\"data.dat\",\"rb\")\n",
        "  try:\n",
        "    while True:\n",
        "      rec=pickle.load(fobj)\n",
        "      print(rec)\n",
        "  except:\n",
        "    fobj.close()\n",
        "display()\n"
      ],
      "execution_count": null,
      "outputs": []
    },
    {
      "cell_type": "markdown",
      "metadata": {
        "id": "NBiXQJxuh525"
      },
      "source": [
        "                              **TEXT FILE PROGRAMS:**"
      ]
    },
    {
      "cell_type": "markdown",
      "metadata": {
        "id": "6Ht1M5vUiDHi"
      },
      "source": [
        "Q1. Write a function in Python that counts the number of “Me” or “My” (in smaller case also) words present in a text file “STORY.TXT”. If the “STORY.TXT” contents are as follows:\n",
        "\n",
        "My first book was Me and My Family. It gave me chance to be Known to the world.\n",
        "\n",
        "The output of the function should be: Count of Me/My in file: 4\n"
      ]
    },
    {
      "cell_type": "code",
      "metadata": {
        "id": "zHQI0MP7iHAU"
      },
      "source": [
        "def countmemy():\n",
        "  f=open(\"story.txt\", \"r\")\n",
        "  d=f.read()\n",
        "  m=d.split()\n",
        "  c=0\n",
        "  for i in m:\n",
        "    if i==\"me\" or i==\"my\" or i==\"Me\" or i==\"My\":\n",
        "      c=c+1\n",
        "  print(\"Count of Me/My in file\",c)\n",
        "countmemy()"
      ],
      "execution_count": null,
      "outputs": []
    },
    {
      "cell_type": "markdown",
      "metadata": {
        "id": "rHBb1oI7i4kU"
      },
      "source": [
        "Q2. Write a function AMCount() in Python, which should read each character of a text file STORY.TXT, should count and display the occurence of alphabets ‘A’ and ‘M’ (including small cases ‘a’ and ‘m ‘too). Example: If the file content is as follows:\n",
        "\n",
        "The AMCount() function should display the output as: A or a = 4, M or m =2\n"
      ]
    },
    {
      "cell_type": "code",
      "metadata": {
        "id": "S8sVU5CDi9LU"
      },
      "source": [
        "def countam():\n",
        "  f=open(\"story.txt\",\"r\")\n",
        "  d=f.read()\n",
        "  cm=0\n",
        "  ca=0\n",
        "  for i in d:\n",
        "    if i==\"a\" or i==\"A\":\n",
        "      ca=ca+1\n",
        "    if i==\"m\" or i==\"M\":\n",
        "      cm=cm+1\n",
        "  print(\"A or a = \",ca ,\"M or m = \",cm) \n",
        "countam()"
      ],
      "execution_count": null,
      "outputs": []
    },
    {
      "cell_type": "markdown",
      "metadata": {
        "id": "-Ts09QEtjvEi"
      },
      "source": [
        "Q3. Write a function in python to count the number of lines in a text file\n",
        "STORY.TXT’ which is starting with an alphabet ‘A’ ."
      ]
    },
    {
      "cell_type": "code",
      "metadata": {
        "id": "qCWNwb27jvl9"
      },
      "source": [
        "def counta():\n",
        "  f=open(\"story.txt\",\"r\")\n",
        "  c=0\n",
        "  d=f.readlines()\n",
        "  for i in d:\n",
        "    if i[0] == \"A\":\n",
        "      c=c+1\n",
        "  print(\"Lines starting from A are \",c)\n",
        "counta()"
      ],
      "execution_count": null,
      "outputs": []
    },
    {
      "cell_type": "markdown",
      "metadata": {
        "id": "A2FwLKBRkR7T"
      },
      "source": [
        "Q4. Write a method/function DISPLAYWORDS() in python to read lines from a text file STORY.TXT, and display those words, which are less than 4 characters."
      ]
    },
    {
      "cell_type": "code",
      "metadata": {
        "id": "7IxawmHGkU1O"
      },
      "source": [
        "def displaywords():\n",
        "  f=open(\"story.txt\",\"r\")\n",
        "  d=f.read()\n",
        "  m=d.split()\n",
        "  for i in m:\n",
        "    if (len(i)<4):\n",
        "      print(i)\n",
        "displaywords()"
      ],
      "execution_count": null,
      "outputs": []
    },
    {
      "cell_type": "markdown",
      "metadata": {
        "id": "kSCNxV0klI8n"
      },
      "source": [
        "Q5. Write a function RevText() to read a text file “ Story.txt “ and Print only word starting with ‘I’ in reverse order .\n",
        "\n",
        " Example: If value in text file is: INDIA IS MY COUNTRY Output will be: AIDNI SI MY COUNTRY."
      ]
    },
    {
      "cell_type": "code",
      "metadata": {
        "id": "VEbhEzK_lJiH"
      },
      "source": [
        "def revtext():\n",
        "  f=open(\"story.txt\",\"r\")\n",
        "  s=\"\"\n",
        "  while True:\n",
        "    d=f.readline()\n",
        "    if not d:\n",
        "      break\n",
        "    else:\n",
        "      m=d.split()\n",
        "      for i in m:\n",
        "        if i[0]==\"i\" or i[0]==\"I\":\n",
        "          s=s + \" \" + (i[::-1])\n",
        "        else:\n",
        "          s=s+\" \"+i\n",
        "      print(s)\n",
        "      s=\"\"\n",
        "revtext()"
      ],
      "execution_count": null,
      "outputs": []
    },
    {
      "cell_type": "markdown",
      "metadata": {
        "id": "S8-pEDPul11g"
      },
      "source": [
        "Q6. Write a function in python to count the number of lowercase alphabets present in a text file “Story.txt”\n"
      ]
    },
    {
      "cell_type": "code",
      "metadata": {
        "id": "BtktalQjl7_Z"
      },
      "source": [
        "def countlowercase():\n",
        "  f=open(\"story.txt\",\"r\")\n",
        "  d=f.read()\n",
        "  c=0\n",
        "  for i in d:\n",
        "    if i.isLower():\n",
        "      c=c+1\n",
        "  print(\"total number of lowercases : \",c)\n",
        "countLowercase()\n"
      ],
      "execution_count": null,
      "outputs": []
    },
    {
      "cell_type": "markdown",
      "metadata": {
        "id": "w-ZfFkqomhB3"
      },
      "source": [
        "Q7. Write a user-defined function named count() that will read the contents of text file named “Story.txt” and count the number of lines which starts with either “I‟ or “M‟. E.g. In the following paragraph, there are 2 lines starting with “I‟ or “M‟:\n",
        "\n",
        "    “India is the fastest growing economy. \n",
        "    India is looking for more investments around the globe. \n",
        "    The whole world is looking at India as a great market. \n",
        "    Most of the Indians can foresee the heights that India is capable of reaching.”"
      ]
    },
    {
      "cell_type": "code",
      "metadata": {
        "id": "Jh9rnuqSmlf-"
      },
      "source": [
        "def count():\n",
        "  f=open(\"story.txt\",\"r\")\n",
        "  d=f.readlines()\n",
        "  c=0\n",
        "  for i in d:\n",
        "    if i==\"I\" or i==\"M\":\n",
        "      c=c+1\n",
        "  print(\"Total lines are : \",c)\n",
        "count()"
      ],
      "execution_count": null,
      "outputs": []
    },
    {
      "cell_type": "markdown",
      "metadata": {
        "id": "F9Ir1q2tm7_3"
      },
      "source": [
        "Q8. Write a function countmy( )in Python to read the text file “Story.txt” and count the number of times “my” or “My” occurs in the file. For example if the file “Story.TXT” contains:\n",
        "\n",
        "“This is my website. I have displayed my preferences in the CHOICE section.”\n",
        "\n",
        "The countmy( ) function should display the output as: “my occurs 2 times”."
      ]
    },
    {
      "cell_type": "code",
      "metadata": {
        "id": "PSDahLfKm-aR"
      },
      "source": [
        "def countmy():\n",
        "  f=open(\"story.txt\",\"r\")\n",
        "  d=f.read()\n",
        "  m=d.split()\n",
        "  c=0\n",
        "  for i in m:\n",
        "    if i==\"my\" or i==\"My\":\n",
        "      c=c+1\n",
        "  print(\"my or My occurs \",c,\"times\")\n",
        "countmy()"
      ],
      "execution_count": null,
      "outputs": []
    },
    {
      "cell_type": "markdown",
      "metadata": {
        "id": "8uKKpg57nkr_"
      },
      "source": [
        "Q9. Write a user defined function countwords() in python to count how many words are present in a text file named “story.txt”. For example, if the file story.txt contains following text:\n",
        "\n",
        "    Co-education system is necessary for a balanced society. With co-education system, Girls and Boys may develop a feeling of       mutual respect towards each other.\n",
        "    The function should display the following:\n",
        "    Total number of words present in the text file are: 24"
      ]
    },
    {
      "cell_type": "code",
      "metadata": {
        "id": "9kAwucXcnm1F"
      },
      "source": [
        "def countwords():\n",
        "  f=open(\"story.txt\",\"r\")\n",
        "  d=f.read()\n",
        "  m=d.split()\n",
        "  print(\"Total number of words present in the text file are: \",len(m))\n",
        "countwords()"
      ],
      "execution_count": null,
      "outputs": []
    },
    {
      "cell_type": "markdown",
      "metadata": {
        "id": "lf6iERN9oGP8"
      },
      "source": [
        "Q10. Write a user defined function in Python that displays the number of lines starting with ‘H’ in the file story.txt. Eg: if the file contains:\n",
        "\n",
        "    Whose woods these are I think I know. \n",
        "    His house is in the village though; \n",
        "    He will not see me stopping here \n",
        "    To watch his woods fill up with snow. \n",
        "Then the line count should be 2"
      ]
    },
    {
      "cell_type": "code",
      "metadata": {
        "id": "uMPK0VI8oTK0"
      },
      "source": [
        "def counth():\n",
        "  f=open(\"story.txt\",\"r\")\n",
        "  d=f.readlines()\n",
        "  c=0\n",
        "  for i in d:\n",
        "    if i[0]==\"H\":\n",
        "      c=c+1\n",
        "  print(\"Line count is \",c)\n",
        "counth()"
      ],
      "execution_count": null,
      "outputs": []
    }
  ]
}